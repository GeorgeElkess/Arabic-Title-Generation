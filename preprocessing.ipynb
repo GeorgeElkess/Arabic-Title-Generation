{
 "cells": [
  {
   "cell_type": "code",
   "execution_count": 1,
   "metadata": {},
   "outputs": [],
   "source": [
    "import pandas as pd\n",
    "from matplotlib import pyplot as plt"
   ]
  },
  {
   "cell_type": "code",
   "execution_count": 2,
   "metadata": {},
   "outputs": [
    {
     "data": {
      "text/html": [
       "<div>\n",
       "<style scoped>\n",
       "    .dataframe tbody tr th:only-of-type {\n",
       "        vertical-align: middle;\n",
       "    }\n",
       "\n",
       "    .dataframe tbody tr th {\n",
       "        vertical-align: top;\n",
       "    }\n",
       "\n",
       "    .dataframe thead th {\n",
       "        text-align: right;\n",
       "    }\n",
       "</style>\n",
       "<table border=\"1\" class=\"dataframe\">\n",
       "  <thead>\n",
       "    <tr style=\"text-align: right;\">\n",
       "      <th></th>\n",
       "      <th>target_text</th>\n",
       "      <th>source_text</th>\n",
       "    </tr>\n",
       "  </thead>\n",
       "  <tbody>\n",
       "    <tr>\n",
       "      <th>0</th>\n",
       "      <td>المتحف العربي للفن الحديث</td>\n",
       "      <td>و هو يعتبر متحف جديد العهد ، يقدم مجموعة من ال...</td>\n",
       "    </tr>\n",
       "    <tr>\n",
       "      <th>1</th>\n",
       "      <td>فيلاجيو مول</td>\n",
       "      <td>يعتبر فيلاجيو مول من أهم المجمعات التجارية و أ...</td>\n",
       "    </tr>\n",
       "    <tr>\n",
       "      <th>2</th>\n",
       "      <td>كورنيش الدوحة</td>\n",
       "      <td>هو المنطقة البحرية الممتدة على مجموعة كيلومترا...</td>\n",
       "    </tr>\n",
       "    <tr>\n",
       "      <th>3</th>\n",
       "      <td>منتجع شاطئ سيلين</td>\n",
       "      <td>يعتبر هذا المنتجع من أجمل الأماكن الساحلية الم...</td>\n",
       "    </tr>\n",
       "    <tr>\n",
       "      <th>4</th>\n",
       "      <td>منتجع الغارية</td>\n",
       "      <td>و هو منتجع مطل على البحر ، و يحوي العديد من أم...</td>\n",
       "    </tr>\n",
       "  </tbody>\n",
       "</table>\n",
       "</div>"
      ],
      "text/plain": [
       "                 target_text  \\\n",
       "0  المتحف العربي للفن الحديث   \n",
       "1                فيلاجيو مول   \n",
       "2              كورنيش الدوحة   \n",
       "3           منتجع شاطئ سيلين   \n",
       "4              منتجع الغارية   \n",
       "\n",
       "                                         source_text  \n",
       "0  و هو يعتبر متحف جديد العهد ، يقدم مجموعة من ال...  \n",
       "1  يعتبر فيلاجيو مول من أهم المجمعات التجارية و أ...  \n",
       "2  هو المنطقة البحرية الممتدة على مجموعة كيلومترا...  \n",
       "3  يعتبر هذا المنتجع من أجمل الأماكن الساحلية الم...  \n",
       "4  و هو منتجع مطل على البحر ، و يحوي العديد من أم...  "
      ]
     },
     "execution_count": 2,
     "metadata": {},
     "output_type": "execute_result"
    }
   ],
   "source": [
    "df = pd.read_csv(\"Dataset_50,000.csv\")\n",
    "df.head()"
   ]
  },
  {
   "cell_type": "code",
   "execution_count": 22,
   "metadata": {},
   "outputs": [],
   "source": [
    "df = df.drop(\"Unnamed: 0\", axis = 1)\n",
    "df.to_csv(\"Dataset_50,000.csv\", index=False)"
   ]
  },
  {
   "cell_type": "code",
   "execution_count": 3,
   "metadata": {},
   "outputs": [],
   "source": [
    "from maha.cleaners.functions import normalize\n",
    "from maha.cleaners.functions import numbers_to_text\n",
    "from maha.cleaners.functions import keep\n",
    "import qalsadi.lemmatizer\n",
    "lemmer = qalsadi.lemmatizer.Lemmatizer()\n",
    "lemmer.set_vocalized_lemma()\n",
    "def PreProcessing(Text):\n",
    "    Result = \"\"\n",
    "    Result = keep(Text, arabic_letters=True, harakat=True) # 4el kol English 5ly 3araby bs\n",
    "    Result = normalize(Text, all=True) # Kol 2l characters tb2a 4bh b3d \n",
    "    Result = numbers_to_text(Result) # 2y number yb2a Text\n",
    "    lemmas = lemmer.lemmatize_text(Result) # lemmitization oe t4kyl\n",
    "    Result = ' '.join(lemmas) # gm3 2l klam kolo\n",
    "    return Result"
   ]
  },
  {
   "cell_type": "code",
   "execution_count": 4,
   "metadata": {},
   "outputs": [
    {
     "name": "stdout",
     "output_type": "stream",
     "text": [
      "Number 5,972,190,000,000,000,000,000,000 is too long to be converted to text\n"
     ]
    },
    {
     "data": {
      "text/plain": [
       "0        و هُوَ اِعْتَبَرَ مُتْحَفٌ جَديدٌ عَهِدٌ ، أَق...\n",
       "1        اِعْتَبَرَ فيلاجيو مَوِلَ مَنْ اهم مَجْمَعٌ ال...\n",
       "2        هُوَ المنطقه البحريه الممتده عَلِيٌّ مَجْمُوعٌ...\n",
       "3        اِعْتَبَرَ هَذَا مُنْتَجَعٌ مَنْ جَمَلَ الاماك...\n",
       "4        و هُوَ مُنْتَجَعٌ مُطِلٌّ عَلِيٌّ بَحْرٌ ، و ح...\n",
       "                               ...                        \n",
       "49995    اِخْتَلَفَ كَمٌّ مَاءٌ الَّتِي اِحْتَاجَ ال ال...\n",
       "49996    اِعْتَقَدَ بَعْضُ مُدَخَّن ان الاضرار الناجمه ...\n",
       "49997    أَشَارَ دَرَّاسٌ ال ان تَدْخِينٌ تَسَبَّبَ عَد...\n",
       "49998    تَسَبَّبَ تَدْخِينٌ و تَدْخِينٌ سَلَبٌ تَغْيِي...\n",
       "49999    الامر الَّذِي يودٌ فِي نهايه مَطَافٌ ال الاصاب...\n",
       "Name: source_text, Length: 50000, dtype: object"
      ]
     },
     "execution_count": 4,
     "metadata": {},
     "output_type": "execute_result"
    }
   ],
   "source": [
    "df['source_text'] = df['source_text'].apply(PreProcessing)\n",
    "df['source_text']"
   ]
  },
  {
   "cell_type": "code",
   "execution_count": 5,
   "metadata": {},
   "outputs": [],
   "source": [
    "import pandas as pd\n",
    "from sklearn.model_selection import train_test_split\n",
    "\n",
    "# Assuming you have a pandas DataFrame called 'data'\n",
    "# with columns 'label' and 'text'\n",
    "\n",
    "# Splitting the data into features (X) and target (y)\n",
    "X = df['source_text']\n",
    "y = df['target_text']\n",
    "\n",
    "# Performing the train-test split\n",
    "X_train, X_test, y_train, y_test = train_test_split(X, y, test_size=0.2, random_state=42)\n",
    "\n",
    "# Creating separate train and test DataFrames\n",
    "train_df = pd.DataFrame({'source_text': X_train, 'target_text': y_train})\n",
    "test_df = pd.DataFrame({'source_text': X_test, 'target_text': y_test})\n",
    "\n",
    "train_df.to_csv(\"train.csv\")\n",
    "test_df.to_csv(\"test.csv\")"
   ]
  },
  {
   "cell_type": "code",
   "execution_count": 11,
   "metadata": {},
   "outputs": [
    {
     "data": {
      "text/html": [
       "<div>\n",
       "<style scoped>\n",
       "    .dataframe tbody tr th:only-of-type {\n",
       "        vertical-align: middle;\n",
       "    }\n",
       "\n",
       "    .dataframe tbody tr th {\n",
       "        vertical-align: top;\n",
       "    }\n",
       "\n",
       "    .dataframe thead th {\n",
       "        text-align: right;\n",
       "    }\n",
       "</style>\n",
       "<table border=\"1\" class=\"dataframe\">\n",
       "  <thead>\n",
       "    <tr style=\"text-align: right;\">\n",
       "      <th></th>\n",
       "      <th>source_text</th>\n",
       "      <th>target_text</th>\n",
       "    </tr>\n",
       "  </thead>\n",
       "  <tbody>\n",
       "    <tr>\n",
       "      <th>0</th>\n",
       "      <td>وَضْعٌ سِتٌّ مَلاَعِقُ صَغِيرٌ مَنْ اعشاب بَحْ...</td>\n",
       "      <td>أعشاب البحر</td>\n",
       "    </tr>\n",
       "    <tr>\n",
       "      <th>1</th>\n",
       "      <td>قَدْ يودٌ هَرِمٌ نُمُوٌّ ال تَسَبُّبٌ عَدِيدٌ ...</td>\n",
       "      <td>مشكلات يسببها هرمون النمو</td>\n",
       "    </tr>\n",
       "    <tr>\n",
       "      <th>2</th>\n",
       "      <td>هَذِهِ الوجبه مُهِمٌّ جِدًّا فِي صَبَاحٌ ، لان...</td>\n",
       "      <td>إهمال وجبات الإفطار</td>\n",
       "    </tr>\n",
       "    <tr>\n",
       "      <th>3</th>\n",
       "      <td>الشعره هِي نَسِيجٌ تَكَوَّنَ مَنْ خَلاَيَا غَي...</td>\n",
       "      <td>أهم النصائح للمحافظة على الشعر الطويل</td>\n",
       "    </tr>\n",
       "    <tr>\n",
       "      <th>4</th>\n",
       "      <td>اِعْتَبَرَ غَرْفٌ المعيشه مَنْ كَثَرَ غَرْفٌ ا...</td>\n",
       "      <td>ترتيب غرفة المعيشة</td>\n",
       "    </tr>\n",
       "    <tr>\n",
       "      <th>...</th>\n",
       "      <td>...</td>\n",
       "      <td>...</td>\n",
       "    </tr>\n",
       "    <tr>\n",
       "      <th>9995</th>\n",
       "      <td>جَفَافٌ جِسْمٌ وَثَرَ شَكْلٌ مُبَاشِرٌ عَلِيٌّ...</td>\n",
       "      <td>خفقان القلب السريع</td>\n",
       "    </tr>\n",
       "    <tr>\n",
       "      <th>9996</th>\n",
       "      <td>يَتَمٌ اِسْتِخْدامٌ موشر تَلَهٌ جِسْمٌ كَادَ ف...</td>\n",
       "      <td>مؤشر كتلة الجسم</td>\n",
       "    </tr>\n",
       "    <tr>\n",
       "      <th>9997</th>\n",
       "      <td>لَغَدَ الدرقيه هِي غَدٌ صَمَّاء أَقْعَى فِي عُ...</td>\n",
       "      <td>الغدة الدرقية</td>\n",
       "    </tr>\n",
       "    <tr>\n",
       "      <th>9998</th>\n",
       "      <td>أَعَادَ الكيك مَنْ كَثَرَ حلْوٌ شَعَبٌ لَمَّا ...</td>\n",
       "      <td>زينة الكيك</td>\n",
       "    </tr>\n",
       "    <tr>\n",
       "      <th>9999</th>\n",
       "      <td>تَدَخُّلٌ جَرَّاحٌ قَدْ أَصْبَحَ ضَرُورِيٌّ لَ...</td>\n",
       "      <td>خشونة الركبة . . المرض الذي لا يكاد يخلو منه أ...</td>\n",
       "    </tr>\n",
       "  </tbody>\n",
       "</table>\n",
       "<p>10000 rows × 2 columns</p>\n",
       "</div>"
      ],
      "text/plain": [
       "                                            source_text  \\\n",
       "0     وَضْعٌ سِتٌّ مَلاَعِقُ صَغِيرٌ مَنْ اعشاب بَحْ...   \n",
       "1     قَدْ يودٌ هَرِمٌ نُمُوٌّ ال تَسَبُّبٌ عَدِيدٌ ...   \n",
       "2     هَذِهِ الوجبه مُهِمٌّ جِدًّا فِي صَبَاحٌ ، لان...   \n",
       "3     الشعره هِي نَسِيجٌ تَكَوَّنَ مَنْ خَلاَيَا غَي...   \n",
       "4     اِعْتَبَرَ غَرْفٌ المعيشه مَنْ كَثَرَ غَرْفٌ ا...   \n",
       "...                                                 ...   \n",
       "9995  جَفَافٌ جِسْمٌ وَثَرَ شَكْلٌ مُبَاشِرٌ عَلِيٌّ...   \n",
       "9996  يَتَمٌ اِسْتِخْدامٌ موشر تَلَهٌ جِسْمٌ كَادَ ف...   \n",
       "9997  لَغَدَ الدرقيه هِي غَدٌ صَمَّاء أَقْعَى فِي عُ...   \n",
       "9998  أَعَادَ الكيك مَنْ كَثَرَ حلْوٌ شَعَبٌ لَمَّا ...   \n",
       "9999  تَدَخُّلٌ جَرَّاحٌ قَدْ أَصْبَحَ ضَرُورِيٌّ لَ...   \n",
       "\n",
       "                                            target_text  \n",
       "0                                           أعشاب البحر  \n",
       "1                             مشكلات يسببها هرمون النمو  \n",
       "2                                   إهمال وجبات الإفطار  \n",
       "3                 أهم النصائح للمحافظة على الشعر الطويل  \n",
       "4                                    ترتيب غرفة المعيشة  \n",
       "...                                                 ...  \n",
       "9995                                 خفقان القلب السريع  \n",
       "9996                                    مؤشر كتلة الجسم  \n",
       "9997                                      الغدة الدرقية  \n",
       "9998                                         زينة الكيك  \n",
       "9999  خشونة الركبة . . المرض الذي لا يكاد يخلو منه أ...  \n",
       "\n",
       "[10000 rows x 2 columns]"
      ]
     },
     "execution_count": 11,
     "metadata": {},
     "output_type": "execute_result"
    }
   ],
   "source": [
    "df = pd.read_csv(\"test.csv\")\n",
    "df"
   ]
  },
  {
   "cell_type": "code",
   "execution_count": 10,
   "metadata": {},
   "outputs": [],
   "source": [
    "df = df.drop(\"Unnamed: 0\", axis=1)\n",
    "df.to_csv(\"test.csv\", index=False)"
   ]
  }
 ],
 "metadata": {
  "kernelspec": {
   "display_name": "Python 3",
   "language": "python",
   "name": "python3"
  },
  "language_info": {
   "codemirror_mode": {
    "name": "ipython",
    "version": 3
   },
   "file_extension": ".py",
   "mimetype": "text/x-python",
   "name": "python",
   "nbconvert_exporter": "python",
   "pygments_lexer": "ipython3",
   "version": "3.10.11"
  },
  "orig_nbformat": 4
 },
 "nbformat": 4,
 "nbformat_minor": 2
}
